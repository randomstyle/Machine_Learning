{
 "cells": [
  {
   "cell_type": "code",
   "execution_count": 1,
   "metadata": {
    "scrolled": true
   },
   "outputs": [
    {
     "name": "stderr",
     "output_type": "stream",
     "text": [
      "C:\\Users\\Huynh\\Anaconda3\\envs\\python3\\lib\\site-packages\\sklearn\\ensemble\\weight_boosting.py:29: DeprecationWarning: numpy.core.umath_tests is an internal NumPy module and should not be imported. It will be removed in a future NumPy release.\n",
      "  from numpy.core.umath_tests import inner1d\n"
     ]
    }
   ],
   "source": [
    "import numpy as np\n",
    "from sklearn.decomposition import PCA, TruncatedSVD\n",
    "from sklearn.preprocessing import scale, MinMaxScaler\n",
    "from sklearn.model_selection import KFold, StratifiedKFold\n",
    "from sklearn.ensemble import RandomForestClassifier\n",
    "from sklearn.metrics import f1_score\n",
    "from sklearn.svm import SVC\n",
    "from sklearn.neighbors import KNeighborsClassifier\n",
    "from sklearn.manifold import LocallyLinearEmbedding\n",
    "\n"
   ]
  },
  {
   "cell_type": "code",
   "execution_count": 2,
   "metadata": {},
   "outputs": [],
   "source": [
    "# read data\n",
    "X = np.loadtxt('train.dat')\n",
    "y = np.loadtxt('train.labels')\n",
    "\n",
    "\n",
    "X_R_test = np.loadtxt('test.dat')\n",
    "\n",
    "\n",
    "# ilist = []\n",
    "# for i in range(len(y)):\n",
    "#     if y[i] == 10 or y[i] == 11: ilist.append(i)\n",
    "# X = np.delete(X,ilist,0)\n",
    "# y = np.delete(y,ilist,0)"
   ]
  },
  {
   "cell_type": "code",
   "execution_count": 3,
   "metadata": {},
   "outputs": [],
   "source": [
    "def make_prediction(model, X_test, y_test):\n",
    "    y_pred = model.predict(X_test)\n",
    "    f11 = f1_score(y_test, y_pred, average = 'micro')\n",
    "    return y_pred, f11\n",
    "\n",
    "def RFT_classifier(skf, n_estimators=100, max_depth=2, n_components=8, dr='pca'):\n",
    "\n",
    "    f11_sum = 0\n",
    "    model = RandomForestClassifier(n_estimators=n_estimators, max_depth=max_depth, random_state=0)\n",
    "\n",
    "    for train_index, test_index in skf.split(X, y):\n",
    "\n",
    "        X_train, X_test = X[train_index], X[test_index]\n",
    "        y_train, y_test = y[train_index], y[test_index]\n",
    "\n",
    "#         scale(X_train, copy = False)\n",
    "#         scale(X_test, copy = False)\n",
    "#         scaler1 = MinMaxScaler()\n",
    "#         scaler2 = MinMaxScaler()\n",
    "#         scaler1.fit_transform(X_train)\n",
    "#         scaler2.fit_transform(X_test)\n",
    "\n",
    "        if dr == 'pca':\n",
    "            pca = PCA(n_components=n_components)\n",
    "            X_train_reduced = pca.fit_transform(X_train)\n",
    "            X_test_reduced = pca.fit_transform(X_test)\n",
    "\n",
    "        elif dr == 'svd':\n",
    "            svd = TruncatedSVD(n_components=n_components, n_iter=7, random_state=42)\n",
    "            X_train_reduced = svd.fit_transform(X_train)\n",
    "            X_test_reduced = svd.fit_transform(X_test)\n",
    "            \n",
    "        elif dr == 'lle':\n",
    "            lle = LocallyLinearEmbedding(n_components=n_components, random_state=42)\n",
    "            X_train_reduced = lle.fit_transform(X_train)\n",
    "            X_test_reduced = lle.fit_transform(X_test)\n",
    "        # model\n",
    "        model.fit(X_train, y_train)\n",
    "\n",
    "        # predict\n",
    "        y_pred, f11 = make_prediction(model, X_test, y_test)\n",
    "        print('weighted: ', f11)\n",
    "\n",
    "        f11_sum += f11\n",
    "\n",
    "    f11 = f11_sum/5\n",
    "    \n",
    "\n",
    "    \n",
    "    return f11, model"
   ]
  },
  {
   "cell_type": "code",
   "execution_count": 4,
   "metadata": {},
   "outputs": [],
   "source": [
    "skf = StratifiedKFold(n_splits = 5, shuffle = True, random_state = 1)"
   ]
  },
  {
   "cell_type": "code",
   "execution_count": 5,
   "metadata": {},
   "outputs": [
    {
     "name": "stderr",
     "output_type": "stream",
     "text": [
      "C:\\Users\\Huynh\\Anaconda3\\envs\\python3\\lib\\site-packages\\sklearn\\model_selection\\_split.py:605: Warning: The least populated class in y has only 3 members, which is too few. The minimum number of members in any class cannot be less than n_splits=5.\n",
      "  % (min_groups, self.n_splits)), Warning)\n"
     ]
    },
    {
     "name": "stdout",
     "output_type": "stream",
     "text": [
      "weighted:  0.7012497052581939\n",
      "weighted:  0.6990566037735849\n",
      "weighted:  0.6948312485248997\n"
     ]
    },
    {
     "name": "stderr",
     "output_type": "stream",
     "text": [
      "ERROR:root:Internal Python error in the inspect module.\n",
      "Below is the traceback from this internal error.\n",
      "\n"
     ]
    },
    {
     "name": "stdout",
     "output_type": "stream",
     "text": [
      "Traceback (most recent call last):\n",
      "  File \"C:\\Users\\Huynh\\Anaconda3\\envs\\python3\\lib\\site-packages\\IPython\\core\\interactiveshell.py\", line 2961, in run_code\n",
      "    exec(code_obj, self.user_global_ns, self.user_ns)\n",
      "  File \"<ipython-input-5-b472faa7124e>\", line 10, in <module>\n",
      "    f11, model = RFT_classifier(skf, n_estimators=n_estimators[i], max_depth=max_depth[j], n_components=n_components[k], dr='svod')\n",
      "  File \"<ipython-input-3-0b5fa3718c49>\", line 38, in RFT_classifier\n",
      "    model.fit(X_train, y_train)\n",
      "  File \"C:\\Users\\Huynh\\Anaconda3\\envs\\python3\\lib\\site-packages\\sklearn\\ensemble\\forest.py\", line 328, in fit\n",
      "    for i, t in enumerate(trees))\n",
      "  File \"C:\\Users\\Huynh\\Anaconda3\\envs\\python3\\lib\\site-packages\\sklearn\\externals\\joblib\\parallel.py\", line 779, in __call__\n",
      "    while self.dispatch_one_batch(iterator):\n",
      "  File \"C:\\Users\\Huynh\\Anaconda3\\envs\\python3\\lib\\site-packages\\sklearn\\externals\\joblib\\parallel.py\", line 625, in dispatch_one_batch\n",
      "    self._dispatch(tasks)\n",
      "  File \"C:\\Users\\Huynh\\Anaconda3\\envs\\python3\\lib\\site-packages\\sklearn\\externals\\joblib\\parallel.py\", line 588, in _dispatch\n",
      "    job = self._backend.apply_async(batch, callback=cb)\n",
      "  File \"C:\\Users\\Huynh\\Anaconda3\\envs\\python3\\lib\\site-packages\\sklearn\\externals\\joblib\\_parallel_backends.py\", line 111, in apply_async\n",
      "    result = ImmediateResult(func)\n",
      "  File \"C:\\Users\\Huynh\\Anaconda3\\envs\\python3\\lib\\site-packages\\sklearn\\externals\\joblib\\_parallel_backends.py\", line 332, in __init__\n",
      "    self.results = batch()\n",
      "  File \"C:\\Users\\Huynh\\Anaconda3\\envs\\python3\\lib\\site-packages\\sklearn\\externals\\joblib\\parallel.py\", line 131, in __call__\n",
      "    return [func(*args, **kwargs) for func, args, kwargs in self.items]\n",
      "  File \"C:\\Users\\Huynh\\Anaconda3\\envs\\python3\\lib\\site-packages\\sklearn\\externals\\joblib\\parallel.py\", line 131, in <listcomp>\n",
      "    return [func(*args, **kwargs) for func, args, kwargs in self.items]\n",
      "  File \"C:\\Users\\Huynh\\Anaconda3\\envs\\python3\\lib\\site-packages\\sklearn\\ensemble\\forest.py\", line 121, in _parallel_build_trees\n",
      "    tree.fit(X, y, sample_weight=curr_sample_weight, check_input=False)\n",
      "  File \"C:\\Users\\Huynh\\Anaconda3\\envs\\python3\\lib\\site-packages\\sklearn\\tree\\tree.py\", line 790, in fit\n",
      "    X_idx_sorted=X_idx_sorted)\n",
      "  File \"C:\\Users\\Huynh\\Anaconda3\\envs\\python3\\lib\\site-packages\\sklearn\\tree\\tree.py\", line 362, in fit\n",
      "    builder.build(self.tree_, X, y, sample_weight, X_idx_sorted)\n",
      "KeyboardInterrupt\n",
      "\n",
      "During handling of the above exception, another exception occurred:\n",
      "\n",
      "Traceback (most recent call last):\n",
      "  File \"C:\\Users\\Huynh\\Anaconda3\\envs\\python3\\lib\\site-packages\\IPython\\core\\interactiveshell.py\", line 1863, in showtraceback\n",
      "    stb = value._render_traceback_()\n",
      "AttributeError: 'KeyboardInterrupt' object has no attribute '_render_traceback_'\n",
      "\n",
      "During handling of the above exception, another exception occurred:\n",
      "\n",
      "Traceback (most recent call last):\n",
      "  File \"C:\\Users\\Huynh\\Anaconda3\\envs\\python3\\lib\\site-packages\\IPython\\core\\ultratb.py\", line 1095, in get_records\n",
      "    return _fixed_getinnerframes(etb, number_of_lines_of_context, tb_offset)\n",
      "  File \"C:\\Users\\Huynh\\Anaconda3\\envs\\python3\\lib\\site-packages\\IPython\\core\\ultratb.py\", line 311, in wrapped\n",
      "    return f(*args, **kwargs)\n",
      "  File \"C:\\Users\\Huynh\\Anaconda3\\envs\\python3\\lib\\site-packages\\IPython\\core\\ultratb.py\", line 345, in _fixed_getinnerframes\n",
      "    records = fix_frame_records_filenames(inspect.getinnerframes(etb, context))\n",
      "  File \"C:\\Users\\Huynh\\Anaconda3\\envs\\python3\\lib\\inspect.py\", line 1483, in getinnerframes\n",
      "    frameinfo = (tb.tb_frame,) + getframeinfo(tb, context)\n",
      "  File \"C:\\Users\\Huynh\\Anaconda3\\envs\\python3\\lib\\inspect.py\", line 1441, in getframeinfo\n",
      "    filename = getsourcefile(frame) or getfile(frame)\n",
      "  File \"C:\\Users\\Huynh\\Anaconda3\\envs\\python3\\lib\\inspect.py\", line 696, in getsourcefile\n",
      "    if getattr(getmodule(object, filename), '__loader__', None) is not None:\n",
      "  File \"C:\\Users\\Huynh\\Anaconda3\\envs\\python3\\lib\\inspect.py\", line 739, in getmodule\n",
      "    f = getabsfile(module)\n",
      "  File \"C:\\Users\\Huynh\\Anaconda3\\envs\\python3\\lib\\inspect.py\", line 708, in getabsfile\n",
      "    _filename = getsourcefile(object) or getfile(object)\n",
      "  File \"C:\\Users\\Huynh\\Anaconda3\\envs\\python3\\lib\\inspect.py\", line 693, in getsourcefile\n",
      "    if os.path.exists(filename):\n",
      "  File \"C:\\Users\\Huynh\\Anaconda3\\envs\\python3\\lib\\genericpath.py\", line 19, in exists\n",
      "    os.stat(path)\n",
      "KeyboardInterrupt\n"
     ]
    },
    {
     "ename": "KeyboardInterrupt",
     "evalue": "",
     "output_type": "error",
     "traceback": [
      "\u001b[1;31m---------------------------------------------------------------------------\u001b[0m"
     ]
    }
   ],
   "source": [
    "best_score = 0\n",
    "best_i_j = 0\n",
    "\n",
    "n_estimators = [200,400]\n",
    "max_depth = [300]\n",
    "n_components = [8]\n",
    "for i in range(len(n_estimators)):\n",
    "    for j in range(len(max_depth)):\n",
    "        for k in range(len(n_components)):\n",
    "            f11, model = RFT_classifier(skf, n_estimators=n_estimators[i], max_depth=max_depth[j], n_components=n_components[k], dr='svod')\n",
    "            if f11 >= best_score:\n",
    "                best_score = f11\n",
    "                best_i_j_k = [n_estimators[i], max_depth[j], n_components[k]]\n",
    "            print(best_score, n_estimators[i], max_depth[j], n_components[k])"
   ]
  },
  {
   "cell_type": "code",
   "execution_count": null,
   "metadata": {},
   "outputs": [],
   "source": [
    "# dr = TruncatedSVD(n_components=best_i_j_k[2], n_iter=7, random_state=42)\n",
    "# # dr = PCA(n_components=best_i_j_k[2])\n",
    "\n",
    "# X_reduced = dr.fit_transform(X)\n",
    "# X_R_test_reduced = dr.fit_transform(X_R_test)"
   ]
  },
  {
   "cell_type": "code",
   "execution_count": null,
   "metadata": {},
   "outputs": [],
   "source": [
    "# model = RandomForestClassifier(n_estimators=best_i_j_k[0], max_depth=best_i_j_k[1], random_state=0)\n",
    "# model.fit(X_reduced, y)\n",
    "\n",
    "# pred = model.predict(X_R_test_reduced)\n",
    "\n",
    "# with open(\"result.dat\", \"w\") as f: \n",
    "#     for i in pred:\n",
    "#         f.write(str(int(i)))\n",
    "#         f.write('\\n')"
   ]
  },
  {
   "cell_type": "code",
   "execution_count": null,
   "metadata": {},
   "outputs": [],
   "source": []
  },
  {
   "cell_type": "code",
   "execution_count": null,
   "metadata": {},
   "outputs": [],
   "source": [
    "# # [220, 30, 8] 666905\n",
    "# dr = TruncatedSVD(n_components=8, n_iter=7, random_state=42)\n",
    "# # dr = PCA(n_components=best_i_j_k[2])\n",
    "\n",
    "# X_reduced = dr.fit_transform(X)\n",
    "# X_R_test_reduced = dr.fit_transform(X_R_test)\n",
    "\n",
    "# model = RandomForestClassifier(n_estimators=220, max_depth=30, random_state=0)\n",
    "# model.fit(X_reduced, y)\n",
    "\n",
    "# pred = model.predict(X_R_test_reduced)\n",
    "\n",
    "# with open(\"result.dat\", \"w\") as f: \n",
    "#     for i in pred:\n",
    "#         f.write(str(int(i)))\n",
    "#         f.write('\\n')"
   ]
  },
  {
   "cell_type": "code",
   "execution_count": null,
   "metadata": {},
   "outputs": [],
   "source": [
    "400 500 704\n",
    "print(best_i_j_k)\n"
   ]
  },
  {
   "cell_type": "code",
   "execution_count": null,
   "metadata": {},
   "outputs": [],
   "source": [
    "# [300, 26, 8]\n",
    "c1=0\n",
    "c2=0\n",
    "c3=0\n",
    "c4=0\n",
    "c5=0\n",
    "c6=0\n",
    "c7=0\n",
    "c8=0\n",
    "c9=0\n",
    "c10=0\n",
    "c11=0\n",
    "for i in range(len(y)):\n",
    "    if y[i] == 1: c1 += 1\n",
    "    elif y[i] == 2: c2 += 1\n",
    "    elif y[i] == 3: c3 += 1\n",
    "    elif y[i] == 4: c4 += 1\n",
    "    elif y[i] == 5: c5 += 1\n",
    "    elif y[i] == 6: c6 += 1\n",
    "    elif y[i] == 7: c7 += 1\n",
    "    elif y[i] == 8: c8 += 1\n",
    "    elif y[i] == 9: c9 += 1\n",
    "    elif y[i] == 10: c10 += 1\n",
    "    else: c11 += 1\n",
    "print(c1,c2,c3,c4,c5,c6, c7, c8,c9,c10,c11)"
   ]
  },
  {
   "cell_type": "code",
   "execution_count": null,
   "metadata": {},
   "outputs": [],
   "source": []
  },
  {
   "cell_type": "code",
   "execution_count": null,
   "metadata": {},
   "outputs": [],
   "source": [
    "print (ilist)"
   ]
  },
  {
   "cell_type": "code",
   "execution_count": null,
   "metadata": {},
   "outputs": [],
   "source": [
    "c1=0\n",
    "c2=0\n",
    "c3=0\n",
    "c4=0\n",
    "c5=0\n",
    "c6=0\n",
    "c7=0\n",
    "c8=0\n",
    "c9=0\n",
    "c10=0\n",
    "c11=0\n",
    "for i in range(len(y)):\n",
    "    if y[i] == 1: c1 += 1\n",
    "    elif y[i] == 2: c2 += 1\n",
    "    elif y[i] == 3: c3 += 1\n",
    "    elif y[i] == 4: c4 += 1\n",
    "    elif y[i] == 5: c5 += 1\n",
    "    elif y[i] == 6: c6 += 1\n",
    "    elif y[i] == 7: c7 += 1\n",
    "    elif y[i] == 8: c8 += 1\n",
    "    elif y[i] == 9: c9 += 1\n",
    "    elif y[i] == 10: c10 += 1\n",
    "    else: c11 += 1\n",
    "print(c1,c2,c3,c4,c5,c6, c7, c8,c9,c10,c11)"
   ]
  },
  {
   "cell_type": "code",
   "execution_count": null,
   "metadata": {},
   "outputs": [],
   "source": []
  },
  {
   "cell_type": "code",
   "execution_count": null,
   "metadata": {},
   "outputs": [],
   "source": []
  },
  {
   "cell_type": "code",
   "execution_count": null,
   "metadata": {},
   "outputs": [],
   "source": []
  }
 ],
 "metadata": {
  "kernelspec": {
   "display_name": "Python 3",
   "language": "python",
   "name": "python3"
  },
  "language_info": {
   "codemirror_mode": {
    "name": "ipython",
    "version": 3
   },
   "file_extension": ".py",
   "mimetype": "text/x-python",
   "name": "python",
   "nbconvert_exporter": "python",
   "pygments_lexer": "ipython3",
   "version": "3.6.6"
  }
 },
 "nbformat": 4,
 "nbformat_minor": 2
}
