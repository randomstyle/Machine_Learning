{
 "cells": [
  {
   "cell_type": "code",
   "execution_count": 1,
   "metadata": {},
   "outputs": [
    {
     "name": "stderr",
     "output_type": "stream",
     "text": [
      "C:\\Users\\Huynh\\Anaconda3\\envs\\python3\\lib\\site-packages\\sklearn\\ensemble\\weight_boosting.py:29: DeprecationWarning: numpy.core.umath_tests is an internal NumPy module and should not be imported. It will be removed in a future NumPy release.\n",
      "  from numpy.core.umath_tests import inner1d\n"
     ]
    }
   ],
   "source": [
    "import numpy as np\n",
    "from sklearn.decomposition import PCA, TruncatedSVD\n",
    "from sklearn.preprocessing import scale, MinMaxScaler\n",
    "from sklearn.model_selection import KFold, StratifiedKFold\n",
    "from sklearn.ensemble import RandomForestClassifier\n",
    "from sklearn.metrics import f1_score\n",
    "from sklearn.svm import SVC\n",
    "from sklearn.neighbors import KNeighborsClassifier\n",
    "from sklearn.neural_network import MLPClassifier\n"
   ]
  },
  {
   "cell_type": "code",
   "execution_count": 2,
   "metadata": {},
   "outputs": [],
   "source": [
    "# read data\n",
    "X = np.loadtxt('train.dat')\n",
    "y = np.loadtxt('train.labels')\n",
    "\n",
    "X_R_test = np.loadtxt('test.dat')\n"
   ]
  },
  {
   "cell_type": "code",
   "execution_count": 3,
   "metadata": {},
   "outputs": [],
   "source": [
    "def make_prediction(model, X_test, y_test):\n",
    "    y_pred = model.predict(X_test)\n",
    "    f11 = f1_score(y_test, y_pred, average = 'micro')\n",
    "    return y_pred, f11\n",
    "\n",
    "def MLP_classifier(skf, hidden_layer_sizes=(5,3),max_iter=200,n_components=8, dr='pca'):\n",
    "\n",
    "    f11_sum = 0\n",
    "    model = MLPClassifier(hidden_layer_sizes=hidden_layer_sizes,learning_rate_init=0.0001,max_iter=max_iter)\n",
    "\n",
    "    for train_index, test_index in skf.split(X, y):\n",
    "\n",
    "        X_train, X_test = X[train_index], X[test_index]\n",
    "        y_train, y_test = y[train_index], y[test_index]\n",
    "\n",
    "#         scale(X_train, copy = False)\n",
    "#         scale(X_test, copy = False)\n",
    "#         scaler1 = MinMaxScaler()\n",
    "#         scaler2 = MinMaxScaler()\n",
    "#         scaler1.fit_transform(X_train)\n",
    "#         scaler2.fit_transform(X_test)\n",
    "\n",
    "        if dr == 'pca':\n",
    "            pca = PCA(n_components=n_components)\n",
    "            X_train_reduced = pca.fit_transform(X_train)\n",
    "            X_test_reduced = pca.fit_transform(X_test)\n",
    "\n",
    "        elif dr == 'svd':\n",
    "            svd = TruncatedSVD(n_components=n_components, n_iter=7, random_state=42)\n",
    "            X_train_reduced = svd.fit_transform(X_train)\n",
    "            X_test_reduced = svd.fit_transform(X_test)\n",
    "        # model\n",
    "        model.fit(X_train_reduced, y_train)\n",
    "\n",
    "        # predict\n",
    "        y_pred, f11 = make_prediction(model, X_test_reduced, y_test)\n",
    "        print('weighted: ', f11)\n",
    "\n",
    "        f11_sum += f11\n",
    "\n",
    "    f11 = f11_sum/5\n",
    "    \n",
    "\n",
    "    \n",
    "    return f11, model"
   ]
  },
  {
   "cell_type": "code",
   "execution_count": 4,
   "metadata": {},
   "outputs": [],
   "source": [
    "skf = StratifiedKFold(n_splits = 5, shuffle = True, random_state = 1)"
   ]
  },
  {
   "cell_type": "code",
   "execution_count": null,
   "metadata": {},
   "outputs": [
    {
     "name": "stderr",
     "output_type": "stream",
     "text": [
      "C:\\Users\\Huynh\\Anaconda3\\envs\\python3\\lib\\site-packages\\sklearn\\model_selection\\_split.py:605: Warning: The least populated class in y has only 3 members, which is too few. The minimum number of members in any class cannot be less than n_splits=5.\n",
      "  % (min_groups, self.n_splits)), Warning)\n"
     ]
    },
    {
     "name": "stdout",
     "output_type": "stream",
     "text": [
      "weighted:  0.5364300872435747\n"
     ]
    },
    {
     "name": "stderr",
     "output_type": "stream",
     "text": [
      "C:\\Users\\Huynh\\Anaconda3\\envs\\python3\\lib\\site-packages\\sklearn\\neural_network\\multilayer_perceptron.py:566: UserWarning: Training interrupted by user.\n",
      "  warnings.warn(\"Training interrupted by user.\")\n"
     ]
    },
    {
     "name": "stdout",
     "output_type": "stream",
     "text": [
      "weighted:  0.5285377358490566\n"
     ]
    }
   ],
   "source": [
    "best_score = 0\n",
    "best_i_j = 0\n",
    "\n",
    "hidden_layer_sizes = [(15),(20,5)]\n",
    "max_iter = [500, 800, 1000]\n",
    "n_components = [20]\n",
    "for i in range(len(hidden_layer_sizes)):\n",
    "    for j in range(len(max_iter)):\n",
    "        for k in range(len(n_components)):\n",
    "            f11, model = MLP_classifier(skf, hidden_layer_sizes=hidden_layer_sizes[i], max_iter=max_iter[j], n_components=n_components[k], dr='svd')\n",
    "            if f11 >= best_score:\n",
    "                best_score = f11\n",
    "                best_i_j_k = [hidden_layer_sizes[i], max_iter[j], n_components[k]]\n",
    "            print(best_score, hidden_layer_sizes[i], max_iter[j], n_components[k])"
   ]
  },
  {
   "cell_type": "code",
   "execution_count": null,
   "metadata": {},
   "outputs": [],
   "source": [
    "# dr = TruncatedSVD(n_components=best_i_j_k[2], n_iter=7, random_state=42)\n",
    "# # dr = PCA(n_components=best_i_j_k[2])\n",
    "\n",
    "# X_reduced = dr.fit_transform(X)\n",
    "# X_R_test_reduced = dr.fit_transform(X_R_test)"
   ]
  },
  {
   "cell_type": "code",
   "execution_count": null,
   "metadata": {},
   "outputs": [],
   "source": [
    "# model = RandomForestClassifier(n_estimators=best_i_j_k[0], max_depth=best_i_j_k[1], random_state=0)\n",
    "# model.fit(X_reduced, y)\n",
    "\n",
    "# pred = model.predict(X_R_test_reduced)\n",
    "\n",
    "# with open(\"result.dat\", \"w\") as f: \n",
    "#     for i in pred:\n",
    "#         f.write(str(int(i)))\n",
    "#         f.write('\\n')"
   ]
  },
  {
   "cell_type": "code",
   "execution_count": null,
   "metadata": {},
   "outputs": [],
   "source": []
  },
  {
   "cell_type": "code",
   "execution_count": null,
   "metadata": {},
   "outputs": [],
   "source": [
    "# # [220, 30, 8] 666905\n",
    "# dr = TruncatedSVD(n_components=8, n_iter=7, random_state=42)\n",
    "# # dr = PCA(n_components=best_i_j_k[2])\n",
    "\n",
    "# X_reduced = dr.fit_transform(X)\n",
    "# X_R_test_reduced = dr.fit_transform(X_R_test)\n",
    "\n",
    "# model = RandomForestClassifier(n_estimators=220, max_depth=30, random_state=0)\n",
    "# model.fit(X_reduced, y)\n",
    "\n",
    "# pred = model.predict(X_R_test_reduced)\n",
    "\n",
    "# with open(\"result.dat\", \"w\") as f: \n",
    "#     for i in pred:\n",
    "#         f.write(str(int(i)))\n",
    "#         f.write('\\n')"
   ]
  },
  {
   "cell_type": "code",
   "execution_count": null,
   "metadata": {},
   "outputs": [],
   "source": []
  }
 ],
 "metadata": {
  "kernelspec": {
   "display_name": "Python 3",
   "language": "python",
   "name": "python3"
  },
  "language_info": {
   "codemirror_mode": {
    "name": "ipython",
    "version": 3
   },
   "file_extension": ".py",
   "mimetype": "text/x-python",
   "name": "python",
   "nbconvert_exporter": "python",
   "pygments_lexer": "ipython3",
   "version": "3.6.6"
  }
 },
 "nbformat": 4,
 "nbformat_minor": 2
}
