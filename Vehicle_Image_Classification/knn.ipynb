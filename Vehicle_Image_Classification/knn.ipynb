{
 "cells": [
  {
   "cell_type": "code",
   "execution_count": null,
   "metadata": {},
   "outputs": [],
   "source": [
    "import numpy as np\n",
    "from sklearn.decomposition import PCA, TruncatedSVD\n",
    "from sklearn.preprocessing import scale, MinMaxScaler,minmax_scale\n",
    "from sklearn.model_selection import KFold, StratifiedKFold\n",
    "from sklearn.ensemble import RandomForestClassifier\n",
    "from sklearn.metrics import f1_score\n",
    "from sklearn.svm import SVC\n",
    "from sklearn.neighbors import KNeighborsClassifier\n",
    "from sklearn.manifold import LocallyLinearEmbedding\n",
    "\n"
   ]
  },
  {
   "cell_type": "code",
   "execution_count": null,
   "metadata": {},
   "outputs": [],
   "source": [
    "# read data\n",
    "X = np.loadtxt('train.dat')\n",
    "y = np.loadtxt('train.labels')\n",
    "\n",
    "X_R_test = np.loadtxt('test.dat')\n",
    "X1 = np.delete(X,[8,24],1)\n",
    "# X = np.delete(X,list(range(1))+list(range(16,17))+list(range(32,33)),1)\n",
    "# ilist = []\n",
    "# for i in range(len(y)):\n",
    "#     if y[i] == 10 or y[i] == 11: ilist.append(i)\n",
    "# X = np.delete(X,ilist,0)\n",
    "# y = np.delete(y,ilist,0)\n",
    "\n",
    "X.shape\n"
   ]
  },
  {
   "cell_type": "code",
   "execution_count": null,
   "metadata": {},
   "outputs": [],
   "source": [
    "def make_prediction(model, X_test, y_test):\n",
    "    y_pred = model.predict(X_test)\n",
    "    f11 = f1_score(y_test, y_pred, average = 'micro')\n",
    "    return y_pred, f11\n",
    "\n",
    "def KNN_classifier(skf, k, n_components = 30, dr = 'pca'):\n",
    "\n",
    "    f11_sum = 0\n",
    "    model = KNeighborsClassifier(n_neighbors=k, n_jobs=-1, weights='distance')\n",
    "\n",
    "    for train_index, test_index in skf.split(X1, y):\n",
    "\n",
    "        X_train, X_test = X1[train_index], X1[test_index]\n",
    "        y_train, y_test = y[train_index], y[test_index]\n",
    "\n",
    "#         minmax_scale(X_train,axis=0, copy = False)\n",
    "#         minmax_scale(X_test,axis=0, copy = False)\n",
    "\n",
    "#         if dr == 'pca':\n",
    "#             pca = PCA(n_components=n_components)\n",
    "#             X_train_reduced = pca.fit_transform(X_train)\n",
    "#             X_test_reduced = pca.fit_transform(X_test)\n",
    "\n",
    "#         elif dr == 'svd':\n",
    "#             svd = TruncatedSVD(n_components=n_components, n_iter=100, algorithm='arpack',random_state=42)\n",
    "#             X_train_reduced = svd.fit_transform(X_train)\n",
    "#             X_test_reduced = svd.fit_transform(X_test)\n",
    "\n",
    "#         elif dr == 'lle':\n",
    "#             lle = LocallyLinearEmbedding(n_components=n_components, random_state=42)\n",
    "#             X_train_reduced = lle.fit_transform(X_train)\n",
    "#             X_test_reduced = lle.fit_transform(X_test)\n",
    "            \n",
    "#         minmax_scale(X_train_reduced,axis=0, copy = False)\n",
    "#         minmax_scale(X_test_reduced,axis=0, copy = False)\n",
    "        # model\n",
    "#         model.fit(X_train_reduced, y_train)\n",
    "        model.fit(X_train, y_train)\n",
    "\n",
    "        # predict\n",
    "#         y_pred, f11 = make_prediction(model, X_test_reduced, y_test)\n",
    "        y_pred, f11 = make_prediction(model, X_test, y_test)\n",
    "        print('weighted: ', f11)\n",
    "\n",
    "        f11_sum += f11\n",
    "\n",
    "    f11 = f11_sum/5\n",
    "    \n",
    "\n",
    "    \n",
    "    return f11, model"
   ]
  },
  {
   "cell_type": "code",
   "execution_count": null,
   "metadata": {},
   "outputs": [],
   "source": [
    "skf = StratifiedKFold(n_splits = 5, shuffle = True, random_state = 1)"
   ]
  },
  {
   "cell_type": "code",
   "execution_count": null,
   "metadata": {},
   "outputs": [],
   "source": [
    "best_score = 0\n",
    "best_i_j = 0\n",
    "\n",
    "k = [6,7,8]\n",
    "n_components = [1]\n",
    "for i in range(len(k)):\n",
    "    for j in range(len(n_components)):\n",
    "        f11, model = KNN_classifier(skf, k=k[i], n_components=n_components[j], dr='svd')\n",
    "    \n",
    "        if f11 >= best_score:\n",
    "            best_score = f11\n",
    "            best_i_j = [k[i], n_components[j]]\n",
    "        print(best_score, k[i], n_components[j])"
   ]
  },
  {
   "cell_type": "code",
   "execution_count": null,
   "metadata": {},
   "outputs": [],
   "source": [
    "# print(best_score)"
   ]
  },
  {
   "cell_type": "code",
   "execution_count": null,
   "metadata": {},
   "outputs": [],
   "source": [
    "# print(best_i_j)"
   ]
  },
  {
   "cell_type": "code",
   "execution_count": null,
   "metadata": {},
   "outputs": [],
   "source": [
    "\n",
    "# pca = PCA(n_components=best_i_j[1])\n",
    "# X_reduced = pca.fit_transform(X)\n",
    "# X_R_test_reduced = pca.fit_transform(X_R_test)\n",
    "\n",
    "# model = KNeighborsClassifier(n_neighbors=best_i_j[0], n_jobs=-1)\n",
    "# model.fit(X_reduced, y)\n",
    "\n",
    "# pred = model.predict(X_R_test_reduced)\n",
    "\n",
    "# with open(\"result.dat\", \"w\") as f: \n",
    "#     for i in pred:\n",
    "#         f.write(str(int(i)))\n",
    "#         f.write('\\n')"
   ]
  },
  {
   "cell_type": "code",
   "execution_count": null,
   "metadata": {},
   "outputs": [],
   "source": [
    "# svd = TruncatedSVD(n_components=best_i_j[1], n_iter=7, random_state=42)\n",
    "# X_reduced = svd.fit_transform(X)\n",
    "# X_R_test_reduced = svd.fit_transform(X_R_test)\n",
    "\n",
    "# model = KNeighborsClassifier(n_neighbors=best_i_j[0], n_jobs=-1)\n",
    "# model.fit(X_reduced, y)\n",
    "\n",
    "# pred = model.predict(X_R_test_reduced)\n",
    "\n",
    "# with open(\"result.dat\", \"w\") as f: \n",
    "#     for i in pred:\n",
    "#         f.write(str(int(i)))\n",
    "#         f.write('\\n')"
   ]
  },
  {
   "cell_type": "code",
   "execution_count": null,
   "metadata": {},
   "outputs": [],
   "source": [
    "# best_i_j"
   ]
  },
  {
   "cell_type": "code",
   "execution_count": null,
   "metadata": {},
   "outputs": [],
   "source": [
    "# 0.6599655204009787 10 8\n",
    "# svd 7 8\n"
   ]
  },
  {
   "cell_type": "code",
   "execution_count": null,
   "metadata": {},
   "outputs": [],
   "source": [
    "# 8 is bad"
   ]
  },
  {
   "cell_type": "code",
   "execution_count": null,
   "metadata": {},
   "outputs": [],
   "source": [
    "X = np.loadtxt('train.dat')\n",
    "y = np.loadtxt('train.labels')\n",
    "\n",
    "X_R_test = np.loadtxt('test.dat')\n",
    "\n",
    "skf = StratifiedKFold(n_splits = 5, shuffle = True, random_state = 1)\n",
    "\n",
    "best_score = 0\n",
    "best_i_j = 0\n",
    "\n",
    "k = [8]\n",
    "n_components = list(reversed(range(0,48)))\n",
    "for i in range(len(k)):\n",
    "    for j in range(len(n_components)):\n",
    "        \n",
    "        X1 = np.delete(X,n_components[j],1)\n",
    "        f11, model = KNN_classifier(skf, k=k[i], n_components=n_components[j], dr='svd')\n",
    "    \n",
    "        if f11 >= best_score:\n",
    "            best_score = f11\n",
    "            best_i_j = [k[i], n_components[j]]\n",
    "        print(best_score, k[i], n_components[j])"
   ]
  },
  {
   "cell_type": "code",
   "execution_count": null,
   "metadata": {},
   "outputs": [],
   "source": []
  }
 ],
 "metadata": {
  "kernelspec": {
   "display_name": "Python 3",
   "language": "python",
   "name": "python3"
  },
  "language_info": {
   "codemirror_mode": {
    "name": "ipython",
    "version": 3
   },
   "file_extension": ".py",
   "mimetype": "text/x-python",
   "name": "python",
   "nbconvert_exporter": "python",
   "pygments_lexer": "ipython3",
   "version": "3.6.6"
  }
 },
 "nbformat": 4,
 "nbformat_minor": 2
}
