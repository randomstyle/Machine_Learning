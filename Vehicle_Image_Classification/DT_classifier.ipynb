{
 "cells": [
  {
   "cell_type": "code",
   "execution_count": 1,
   "metadata": {},
   "outputs": [
    {
     "name": "stderr",
     "output_type": "stream",
     "text": [
      "C:\\Users\\Huynh\\Anaconda3\\envs\\python3\\lib\\site-packages\\sklearn\\ensemble\\weight_boosting.py:29: DeprecationWarning: numpy.core.umath_tests is an internal NumPy module and should not be imported. It will be removed in a future NumPy release.\n",
      "  from numpy.core.umath_tests import inner1d\n"
     ]
    }
   ],
   "source": [
    "import numpy as np\n",
    "from sklearn.decomposition import PCA, TruncatedSVD\n",
    "from sklearn.preprocessing import scale, MinMaxScaler\n",
    "from sklearn.model_selection import KFold, StratifiedKFold\n",
    "from sklearn.ensemble import RandomForestClassifier\n",
    "from sklearn.metrics import f1_score\n",
    "from sklearn.svm import SVC\n",
    "from sklearn.neighbors import KNeighborsClassifier\n",
    "from sklearn.tree import DecisionTreeClassifier\n"
   ]
  },
  {
   "cell_type": "code",
   "execution_count": 2,
   "metadata": {},
   "outputs": [],
   "source": [
    "# read data\n",
    "X = np.loadtxt('train.dat')\n",
    "y = np.loadtxt('train.labels')\n",
    "\n",
    "X_R_test = np.loadtxt('test.dat')\n"
   ]
  },
  {
   "cell_type": "code",
   "execution_count": 3,
   "metadata": {},
   "outputs": [],
   "source": [
    "def make_prediction(model, X_test, y_test):\n",
    "    y_pred = model.predict(X_test)\n",
    "    f11 = f1_score(y_test, y_pred, average = 'micro')\n",
    "    return y_pred, f11\n",
    "\n",
    "def DT_classifier(skf, criterion='gini', max_depth=10, n_components=8, dr='pca'):\n",
    "\n",
    "    f11_sum = 0\n",
    "    model = DecisionTreeClassifier(criterion=criterion, max_depth=max_depth, splitter='best', random_state=0)\n",
    "\n",
    "    for train_index, test_index in skf.split(X, y):\n",
    "\n",
    "        X_train, X_test = X[train_index], X[test_index]\n",
    "        y_train, y_test = y[train_index], y[test_index]\n",
    "\n",
    "#         scale(X_train, copy = False)\n",
    "#         scale(X_test, copy = False)\n",
    "#         scaler1 = MinMaxScaler()\n",
    "#         scaler2 = MinMaxScaler()\n",
    "#         scaler1.fit_transform(X_train)\n",
    "#         scaler2.fit_transform(X_test)\n",
    "\n",
    "#         if dr == 'pca':\n",
    "#             pca = PCA(n_components=n_components)\n",
    "#             X_train_reduced = pca.fit_transform(X_train)\n",
    "#             X_test_reduced = pca.fit_transform(X_test)\n",
    "\n",
    "#         elif dr == 'svd':\n",
    "#             svd = TruncatedSVD(n_components=n_components, n_iter=7, random_state=42)\n",
    "#             X_train_reduced = svd.fit_transform(X_train)\n",
    "#             X_test_reduced = svd.fit_transform(X_test)\n",
    "        # model\n",
    "        model.fit(X_train, y_train)\n",
    "\n",
    "        # predict\n",
    "        y_pred, f11 = make_prediction(model, X_test, y_test)\n",
    "        print('weighted: ', f11)\n",
    "\n",
    "        f11_sum += f11\n",
    "\n",
    "    f11 = f11_sum/5\n",
    "    \n",
    "\n",
    "    \n",
    "    return f11, model"
   ]
  },
  {
   "cell_type": "code",
   "execution_count": 4,
   "metadata": {},
   "outputs": [],
   "source": [
    "skf = StratifiedKFold(n_splits = 5, shuffle = True, random_state = 1)"
   ]
  },
  {
   "cell_type": "code",
   "execution_count": 5,
   "metadata": {},
   "outputs": [
    {
     "name": "stderr",
     "output_type": "stream",
     "text": [
      "C:\\Users\\Huynh\\Anaconda3\\envs\\python3\\lib\\site-packages\\sklearn\\model_selection\\_split.py:605: Warning: The least populated class in y has only 3 members, which is too few. The minimum number of members in any class cannot be less than n_splits=5.\n",
      "  % (min_groups, self.n_splits)), Warning)\n"
     ]
    },
    {
     "name": "stdout",
     "output_type": "stream",
     "text": [
      "weighted:  0.5897194058005187\n",
      "weighted:  0.5648584905660378\n",
      "weighted:  0.5744630634883172\n",
      "weighted:  0.5792207792207792\n",
      "weighted:  0.5903614457831325\n",
      "0.5797246369717571 gini 15 8\n",
      "weighted:  0.5951426550341901\n",
      "weighted:  0.5924528301886792\n",
      "weighted:  0.5716308708992212\n",
      "weighted:  0.5851239669421487\n",
      "weighted:  0.5884715331915898\n",
      "0.5865643712511658 gini 8 8\n",
      "weighted:  0.5923131336948833\n",
      "weighted:  0.5834905660377359\n",
      "weighted:  0.5730469671937691\n",
      "weighted:  0.5884297520661157\n",
      "weighted:  0.5809118828254193\n",
      "0.5865643712511658 gini 10 8\n",
      "weighted:  0.5734496580995049\n",
      "weighted:  0.5492924528301887\n",
      "weighted:  0.5565258437573755\n",
      "weighted:  0.5669421487603306\n",
      "weighted:  0.5610678006142216\n",
      "0.5865643712511658 gini 20 8\n",
      "weighted:  0.5732138646545626\n",
      "weighted:  0.5469339622641509\n",
      "weighted:  0.5598300684446542\n",
      "weighted:  0.561038961038961\n",
      "weighted:  0.5624852350578786\n",
      "0.5865643712511658 gini 25 8\n",
      "weighted:  0.5637821268568733\n",
      "weighted:  0.5648584905660378\n"
     ]
    },
    {
     "ename": "KeyboardInterrupt",
     "evalue": "",
     "output_type": "error",
     "traceback": [
      "\u001b[1;31m---------------------------------------------------------------------------\u001b[0m",
      "\u001b[1;31mKeyboardInterrupt\u001b[0m                         Traceback (most recent call last)",
      "\u001b[1;32m<ipython-input-5-4d9f4040f861>\u001b[0m in \u001b[0;36m<module>\u001b[1;34m()\u001b[0m\n\u001b[0;32m      8\u001b[0m     \u001b[1;32mfor\u001b[0m \u001b[0mj\u001b[0m \u001b[1;32min\u001b[0m \u001b[0mrange\u001b[0m\u001b[1;33m(\u001b[0m\u001b[0mlen\u001b[0m\u001b[1;33m(\u001b[0m\u001b[0mmax_depth\u001b[0m\u001b[1;33m)\u001b[0m\u001b[1;33m)\u001b[0m\u001b[1;33m:\u001b[0m\u001b[1;33m\u001b[0m\u001b[0m\n\u001b[0;32m      9\u001b[0m         \u001b[1;32mfor\u001b[0m \u001b[0mk\u001b[0m \u001b[1;32min\u001b[0m \u001b[0mrange\u001b[0m\u001b[1;33m(\u001b[0m\u001b[0mlen\u001b[0m\u001b[1;33m(\u001b[0m\u001b[0mn_components\u001b[0m\u001b[1;33m)\u001b[0m\u001b[1;33m)\u001b[0m\u001b[1;33m:\u001b[0m\u001b[1;33m\u001b[0m\u001b[0m\n\u001b[1;32m---> 10\u001b[1;33m             \u001b[0mf11\u001b[0m\u001b[1;33m,\u001b[0m \u001b[0mmodel\u001b[0m \u001b[1;33m=\u001b[0m \u001b[0mDT_classifier\u001b[0m\u001b[1;33m(\u001b[0m\u001b[0mskf\u001b[0m\u001b[1;33m,\u001b[0m \u001b[0mcriterion\u001b[0m\u001b[1;33m=\u001b[0m\u001b[0mcriterion\u001b[0m\u001b[1;33m[\u001b[0m\u001b[0mi\u001b[0m\u001b[1;33m]\u001b[0m\u001b[1;33m,\u001b[0m \u001b[0mmax_depth\u001b[0m\u001b[1;33m=\u001b[0m\u001b[0mmax_depth\u001b[0m\u001b[1;33m[\u001b[0m\u001b[0mj\u001b[0m\u001b[1;33m]\u001b[0m\u001b[1;33m,\u001b[0m \u001b[0mn_components\u001b[0m\u001b[1;33m=\u001b[0m\u001b[0mn_components\u001b[0m\u001b[1;33m[\u001b[0m\u001b[0mk\u001b[0m\u001b[1;33m]\u001b[0m\u001b[1;33m,\u001b[0m \u001b[0mdr\u001b[0m\u001b[1;33m=\u001b[0m\u001b[1;34m'pca'\u001b[0m\u001b[1;33m)\u001b[0m\u001b[1;33m\u001b[0m\u001b[0m\n\u001b[0m\u001b[0;32m     11\u001b[0m             \u001b[1;32mif\u001b[0m \u001b[0mf11\u001b[0m \u001b[1;33m>=\u001b[0m \u001b[0mbest_score\u001b[0m\u001b[1;33m:\u001b[0m\u001b[1;33m\u001b[0m\u001b[0m\n\u001b[0;32m     12\u001b[0m                 \u001b[0mbest_score\u001b[0m \u001b[1;33m=\u001b[0m \u001b[0mf11\u001b[0m\u001b[1;33m\u001b[0m\u001b[0m\n",
      "\u001b[1;32m<ipython-input-3-c39ee7b2280b>\u001b[0m in \u001b[0;36mDT_classifier\u001b[1;34m(skf, criterion, max_depth, n_components, dr)\u001b[0m\n\u001b[0;32m     31\u001b[0m \u001b[1;31m#             X_test_reduced = svd.fit_transform(X_test)\u001b[0m\u001b[1;33m\u001b[0m\u001b[1;33m\u001b[0m\u001b[0m\n\u001b[0;32m     32\u001b[0m         \u001b[1;31m# model\u001b[0m\u001b[1;33m\u001b[0m\u001b[1;33m\u001b[0m\u001b[0m\n\u001b[1;32m---> 33\u001b[1;33m         \u001b[0mmodel\u001b[0m\u001b[1;33m.\u001b[0m\u001b[0mfit\u001b[0m\u001b[1;33m(\u001b[0m\u001b[0mX_train\u001b[0m\u001b[1;33m,\u001b[0m \u001b[0my_train\u001b[0m\u001b[1;33m)\u001b[0m\u001b[1;33m\u001b[0m\u001b[0m\n\u001b[0m\u001b[0;32m     34\u001b[0m \u001b[1;33m\u001b[0m\u001b[0m\n\u001b[0;32m     35\u001b[0m         \u001b[1;31m# predict\u001b[0m\u001b[1;33m\u001b[0m\u001b[1;33m\u001b[0m\u001b[0m\n",
      "\u001b[1;32m~\\Anaconda3\\envs\\python3\\lib\\site-packages\\sklearn\\tree\\tree.py\u001b[0m in \u001b[0;36mfit\u001b[1;34m(self, X, y, sample_weight, check_input, X_idx_sorted)\u001b[0m\n\u001b[0;32m    788\u001b[0m             \u001b[0msample_weight\u001b[0m\u001b[1;33m=\u001b[0m\u001b[0msample_weight\u001b[0m\u001b[1;33m,\u001b[0m\u001b[1;33m\u001b[0m\u001b[0m\n\u001b[0;32m    789\u001b[0m             \u001b[0mcheck_input\u001b[0m\u001b[1;33m=\u001b[0m\u001b[0mcheck_input\u001b[0m\u001b[1;33m,\u001b[0m\u001b[1;33m\u001b[0m\u001b[0m\n\u001b[1;32m--> 790\u001b[1;33m             X_idx_sorted=X_idx_sorted)\n\u001b[0m\u001b[0;32m    791\u001b[0m         \u001b[1;32mreturn\u001b[0m \u001b[0mself\u001b[0m\u001b[1;33m\u001b[0m\u001b[0m\n\u001b[0;32m    792\u001b[0m \u001b[1;33m\u001b[0m\u001b[0m\n",
      "\u001b[1;32m~\\Anaconda3\\envs\\python3\\lib\\site-packages\\sklearn\\tree\\tree.py\u001b[0m in \u001b[0;36mfit\u001b[1;34m(self, X, y, sample_weight, check_input, X_idx_sorted)\u001b[0m\n\u001b[0;32m    360\u001b[0m                                            min_impurity_split)\n\u001b[0;32m    361\u001b[0m \u001b[1;33m\u001b[0m\u001b[0m\n\u001b[1;32m--> 362\u001b[1;33m         \u001b[0mbuilder\u001b[0m\u001b[1;33m.\u001b[0m\u001b[0mbuild\u001b[0m\u001b[1;33m(\u001b[0m\u001b[0mself\u001b[0m\u001b[1;33m.\u001b[0m\u001b[0mtree_\u001b[0m\u001b[1;33m,\u001b[0m \u001b[0mX\u001b[0m\u001b[1;33m,\u001b[0m \u001b[0my\u001b[0m\u001b[1;33m,\u001b[0m \u001b[0msample_weight\u001b[0m\u001b[1;33m,\u001b[0m \u001b[0mX_idx_sorted\u001b[0m\u001b[1;33m)\u001b[0m\u001b[1;33m\u001b[0m\u001b[0m\n\u001b[0m\u001b[0;32m    363\u001b[0m \u001b[1;33m\u001b[0m\u001b[0m\n\u001b[0;32m    364\u001b[0m         \u001b[1;32mif\u001b[0m \u001b[0mself\u001b[0m\u001b[1;33m.\u001b[0m\u001b[0mn_outputs_\u001b[0m \u001b[1;33m==\u001b[0m \u001b[1;36m1\u001b[0m\u001b[1;33m:\u001b[0m\u001b[1;33m\u001b[0m\u001b[0m\n",
      "\u001b[1;31mKeyboardInterrupt\u001b[0m: "
     ]
    }
   ],
   "source": [
    "best_score = 0\n",
    "best_i_j = 0\n",
    "\n",
    "criterion = ['gini','entropy']\n",
    "max_depth = [15,8,10,20,25]\n",
    "n_components = [8]\n",
    "for i in range(len(criterion)):\n",
    "    for j in range(len(max_depth)):\n",
    "        for k in range(len(n_components)):\n",
    "            f11, model = DT_classifier(skf, criterion=criterion[i], max_depth=max_depth[j], n_components=n_components[k], dr='pca')\n",
    "            if f11 >= best_score:\n",
    "                best_score = f11\n",
    "                best_i_j_k = [criterion[i], max_depth[j], n_components[k]]\n",
    "            print(best_score, criterion[i], max_depth[j], n_components[k])"
   ]
  },
  {
   "cell_type": "code",
   "execution_count": null,
   "metadata": {},
   "outputs": [],
   "source": [
    "# dr = TruncatedSVD(n_components=best_i_j_k[2], n_iter=7, random_state=42)\n",
    "# # dr = PCA(n_components=best_i_j_k[2])\n",
    "\n",
    "# X_reduced = dr.fit_transform(X)\n",
    "# X_R_test_reduced = dr.fit_transform(X_R_test)"
   ]
  },
  {
   "cell_type": "code",
   "execution_count": null,
   "metadata": {},
   "outputs": [],
   "source": [
    "# model = RandomForestClassifier(n_estimators=best_i_j_k[0], max_depth=best_i_j_k[1], random_state=0)\n",
    "# model.fit(X_reduced, y)\n",
    "\n",
    "# pred = model.predict(X_R_test_reduced)\n",
    "\n",
    "# with open(\"result.dat\", \"w\") as f: \n",
    "#     for i in pred:\n",
    "#         f.write(str(int(i)))\n",
    "#         f.write('\\n')"
   ]
  },
  {
   "cell_type": "code",
   "execution_count": null,
   "metadata": {},
   "outputs": [],
   "source": []
  },
  {
   "cell_type": "code",
   "execution_count": null,
   "metadata": {},
   "outputs": [],
   "source": [
    "# # [220, 30, 8] 666905\n",
    "# dr = TruncatedSVD(n_components=8, n_iter=7, random_state=42)\n",
    "# # dr = PCA(n_components=best_i_j_k[2])\n",
    "\n",
    "# X_reduced = dr.fit_transform(X)\n",
    "# X_R_test_reduced = dr.fit_transform(X_R_test)\n",
    "\n",
    "# model = RandomForestClassifier(n_estimators=220, max_depth=30, random_state=0)\n",
    "# model.fit(X_reduced, y)\n",
    "\n",
    "# pred = model.predict(X_R_test_reduced)\n",
    "\n",
    "# with open(\"result.dat\", \"w\") as f: \n",
    "#     for i in pred:\n",
    "#         f.write(str(int(i)))\n",
    "#         f.write('\\n')"
   ]
  },
  {
   "cell_type": "code",
   "execution_count": null,
   "metadata": {},
   "outputs": [],
   "source": []
  }
 ],
 "metadata": {
  "kernelspec": {
   "display_name": "Python 3",
   "language": "python",
   "name": "python3"
  },
  "language_info": {
   "codemirror_mode": {
    "name": "ipython",
    "version": 3
   },
   "file_extension": ".py",
   "mimetype": "text/x-python",
   "name": "python",
   "nbconvert_exporter": "python",
   "pygments_lexer": "ipython3",
   "version": "3.6.6"
  }
 },
 "nbformat": 4,
 "nbformat_minor": 2
}
