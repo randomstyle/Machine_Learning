{
 "cells": [
  {
   "cell_type": "code",
   "execution_count": 1,
   "metadata": {},
   "outputs": [],
   "source": [
    "import tensorflow as tf\n",
    "import matplotlib.pyplot as plt\n",
    "import numpy as np\n",
    "import pandas as pd\n",
    "import math\n",
    "from sklearn import preprocessing\n",
    "from sklearn.linear_model import LinearRegression\n",
    "from sklearn.metrics import mean_squared_error\n",
    "from mpl_toolkits.mplot3d import Axes3D"
   ]
  },
  {
   "cell_type": "code",
   "execution_count": 2,
   "metadata": {},
   "outputs": [],
   "source": [
    "# 1 (10pts). Linear regression with one variable from scratch\n",
    "# Using Jupyter notebook, load the data (ex1data1.csv). Visualize data using scatter plot.\n",
    "# The first column is Population of City in 10,000s, and the second column is profit of food truck in 10,000.\n",
    "# In order to predict the profit, fit the data using gradient descent method (without matrix). You need to calculate cost function and update weight using gradient descent method. Try several different learning rate. Please print Root Mean Squared Error (RMSE) after optimization."
   ]
  },
  {
   "cell_type": "code",
   "execution_count": 3,
   "metadata": {},
   "outputs": [
    {
     "data": {
      "text/html": [
       "<div>\n",
       "<style scoped>\n",
       "    .dataframe tbody tr th:only-of-type {\n",
       "        vertical-align: middle;\n",
       "    }\n",
       "\n",
       "    .dataframe tbody tr th {\n",
       "        vertical-align: top;\n",
       "    }\n",
       "\n",
       "    .dataframe thead th {\n",
       "        text-align: right;\n",
       "    }\n",
       "</style>\n",
       "<table border=\"1\" class=\"dataframe\">\n",
       "  <thead>\n",
       "    <tr style=\"text-align: right;\">\n",
       "      <th></th>\n",
       "      <th>pop</th>\n",
       "      <th>profit</th>\n",
       "    </tr>\n",
       "  </thead>\n",
       "  <tbody>\n",
       "    <tr>\n",
       "      <th>0</th>\n",
       "      <td>6.1101</td>\n",
       "      <td>17.5920</td>\n",
       "    </tr>\n",
       "    <tr>\n",
       "      <th>1</th>\n",
       "      <td>5.5277</td>\n",
       "      <td>9.1302</td>\n",
       "    </tr>\n",
       "    <tr>\n",
       "      <th>2</th>\n",
       "      <td>8.5186</td>\n",
       "      <td>13.6620</td>\n",
       "    </tr>\n",
       "    <tr>\n",
       "      <th>3</th>\n",
       "      <td>7.0032</td>\n",
       "      <td>11.8540</td>\n",
       "    </tr>\n",
       "    <tr>\n",
       "      <th>4</th>\n",
       "      <td>5.8598</td>\n",
       "      <td>6.8233</td>\n",
       "    </tr>\n",
       "  </tbody>\n",
       "</table>\n",
       "</div>"
      ],
      "text/plain": [
       "      pop   profit\n",
       "0  6.1101  17.5920\n",
       "1  5.5277   9.1302\n",
       "2  8.5186  13.6620\n",
       "3  7.0032  11.8540\n",
       "4  5.8598   6.8233"
      ]
     },
     "execution_count": 3,
     "metadata": {},
     "output_type": "execute_result"
    }
   ],
   "source": [
    "dataFile = 'ex1data1.csv';\n",
    "df = pd.read_csv(dataFile, header=None);\n",
    "\n",
    "cols = ['pop', 'profit'];\n",
    "df.columns = cols;\n",
    "df.head()"
   ]
  },
  {
   "cell_type": "code",
   "execution_count": 4,
   "metadata": {},
   "outputs": [
    {
     "data": {
      "image/png": "[encoded data removed]",
      "text/plain": [
       "<matplotlib.figure.Figure at 0x11fb8c940>"
      ]
     },
     "metadata": {},
     "output_type": "display_data"
    }
   ],
   "source": [
    "plt.plot(df['pop'], df['profit'], 'b.');\n",
    "plt.ylabel('profit');\n",
    "plt.xlabel('population');\n",
    "plt.show()"
   ]
  },
  {
   "cell_type": "code",
   "execution_count": 5,
   "metadata": {},
   "outputs": [],
   "source": [
    "def calCostFunc():\n",
    "    res = 0;\n",
    "    for i in range(m):\n",
    "        j = w[0] + w[1] * df['pop'][i] - df['profit'][i];\n",
    "        j = j*j;\n",
    "        res += j;\n",
    "    res = res/m;\n",
    "    return res;\n",
    "\n",
    "def updateW(alpha):\n",
    "    for i in range(m):\n",
    "        w[0] -= 2/m * alpha * (w[0] + w[1] * df['pop'][i] - df['profit'][i]);\n",
    "        w[1] -= 2/m * alpha * df['pop'][i] * (w[0] + w[1] * df['pop'][i] - df['profit'][i]);\n"
   ]
  },
  {
   "cell_type": "code",
   "execution_count": 6,
   "metadata": {},
   "outputs": [
    {
     "data": {
      "image/png": "[encoded data removed]",
      "text/plain": [
       "<matplotlib.figure.Figure at 0x122fb8198>"
      ]
     },
     "metadata": {},
     "output_type": "display_data"
    },
    {
     "name": "stdout",
     "output_type": "stream",
     "text": [
      "[-3.9248347944102067, 0.99468511947411553]\n",
      "RMSE:  3.500205506451414\n"
     ]
    },
    {
     "data": {
      "image/png": "[encoded data removed]",
      "text/plain": [
       "<matplotlib.figure.Figure at 0x1238be358>"
      ]
     },
     "metadata": {},
     "output_type": "display_data"
    },
    {
     "name": "stdout",
     "output_type": "stream",
     "text": [
      "[-3.7640340661933571, 1.109051951540255]\n",
      "RMSE:  3.0602076027931147\n"
     ]
    },
    {
     "data": {
      "image/png": "[encoded data removed]",
      "text/plain": [
       "<matplotlib.figure.Figure at 0x123897518>"
      ]
     },
     "metadata": {},
     "output_type": "display_data"
    },
    {
     "name": "stdout",
     "output_type": "stream",
     "text": [
      "[-3.8103697082596515, 1.0187896200801272]\n",
      "RMSE:  3.3451258135779383\n"
     ]
    }
   ],
   "source": [
    "m = df.shape[0];\n",
    "alpha = [0.1, 0.01, 0.05];\n",
    "\n",
    "for i in range(len(alpha)):\n",
    "    w = [1, 1]\n",
    "    prevCost = calCostFunc();\n",
    "    while True:\n",
    "        updateW(alpha[i]);\n",
    "        cost = calCostFunc();\n",
    "        if cost <= 0.001 or abs(prevCost - cost) <= 0.00001: break;\n",
    "        prevCost = cost;\n",
    "\n",
    "    minX = min(df['pop']);\n",
    "    maxX = max(df['pop']);\n",
    "    plt.plot(df['pop'], df['profit'], 'b.', [minX, maxX], [w[0] + w[1]*minX, w[0] + w[1]*maxX], 'r-');\n",
    "    plt.ylabel('profit');\n",
    "    plt.xlabel('population');\n",
    "\n",
    "    plt.show();\n",
    "    print(w);\n",
    "    print('RMSE: ', math.sqrt(calCostFunc()));"
   ]
  },
  {
   "cell_type": "code",
   "execution_count": 7,
   "metadata": {},
   "outputs": [],
   "source": [
    "# 2(30pts). Linear regression with multiple variables from scratch\n",
    "# Using Jupyter notebook, load the data (ex1data2.csv). Visualize data.\n",
    "# The first column is the size of the house (in square feet), the second column is the number of bedrooms, and the third column is the price of the house.\n",
    "# In order to predict the housing price, fit the data using gradient descent method (without matrix). You need to calculate cost function and update weight using gradient descent method. Try several different learning rate. Please print the Root Mean Squared Error (RMSE) after optimization.\n",
    "# 2-1. Linear regression with multiple variables using matrix\n",
    "# Fit the data (ex1data2.csv) using matrix calculation. You need to calculate cost function and update weight. Please print the Root Mean Squared Error (RMSE) after optimization.\n",
    "# 2-2. Linear regression with multiple variables using Normal equation\n",
    "# Fit the data (ex1data2.csv) using Normal equation. You need to calculate cost function and update weight. Please print the best Root Mean Squared Error (RMSE) after optimization."
   ]
  },
  {
   "cell_type": "code",
   "execution_count": 8,
   "metadata": {},
   "outputs": [
    {
     "data": {
      "text/html": [
       "<div>\n",
       "<style scoped>\n",
       "    .dataframe tbody tr th:only-of-type {\n",
       "        vertical-align: middle;\n",
       "    }\n",
       "\n",
       "    .dataframe tbody tr th {\n",
       "        vertical-align: top;\n",
       "    }\n",
       "\n",
       "    .dataframe thead th {\n",
       "        text-align: right;\n",
       "    }\n",
       "</style>\n",
       "<table border=\"1\" class=\"dataframe\">\n",
       "  <thead>\n",
       "    <tr style=\"text-align: right;\">\n",
       "      <th></th>\n",
       "      <th>size</th>\n",
       "      <th>#room</th>\n",
       "      <th>price</th>\n",
       "    </tr>\n",
       "  </thead>\n",
       "  <tbody>\n",
       "    <tr>\n",
       "      <th>0</th>\n",
       "      <td>2104</td>\n",
       "      <td>3</td>\n",
       "      <td>399900.0</td>\n",
       "    </tr>\n",
       "    <tr>\n",
       "      <th>1</th>\n",
       "      <td>1600</td>\n",
       "      <td>3</td>\n",
       "      <td>329900.0</td>\n",
       "    </tr>\n",
       "    <tr>\n",
       "      <th>2</th>\n",
       "      <td>2400</td>\n",
       "      <td>3</td>\n",
       "      <td>369000.0</td>\n",
       "    </tr>\n",
       "    <tr>\n",
       "      <th>3</th>\n",
       "      <td>1416</td>\n",
       "      <td>2</td>\n",
       "      <td>232000.0</td>\n",
       "    </tr>\n",
       "    <tr>\n",
       "      <th>4</th>\n",
       "      <td>3000</td>\n",
       "      <td>4</td>\n",
       "      <td>539900.0</td>\n",
       "    </tr>\n",
       "  </tbody>\n",
       "</table>\n",
       "</div>"
      ],
      "text/plain": [
       "   size  #room     price\n",
       "0  2104      3  399900.0\n",
       "1  1600      3  329900.0\n",
       "2  2400      3  369000.0\n",
       "3  1416      2  232000.0\n",
       "4  3000      4  539900.0"
      ]
     },
     "execution_count": 8,
     "metadata": {},
     "output_type": "execute_result"
    }
   ],
   "source": [
    "df1 = pd.read_csv('ex1data2.csv', header=None);\n",
    "df1.columns = ['size', '#room', 'price'];\n",
    "df1.head()"
   ]
  },
  {
   "cell_type": "code",
   "execution_count": 9,
   "metadata": {},
   "outputs": [
    {
     "data": {
      "image/png": "[encoded data removed]",
      "text/plain": [
       "<matplotlib.figure.Figure at 0x122fbef28>"
      ]
     },
     "metadata": {},
     "output_type": "display_data"
    }
   ],
   "source": [
    "fig = plt.figure();\n",
    "ax = Axes3D(fig);\n",
    "ax.plot(df1['size'], df1['#room'], df1['price'], 'b.');\n",
    "ax.set_xlabel('size');\n",
    "ax.set_ylabel('#broom');\n",
    "ax.set_zlabel('price');\n",
    "plt.show();"
   ]
  },
  {
   "cell_type": "markdown",
   "metadata": {},
   "source": [
    "### 2.1 Matrix method"
   ]
  },
  {
   "cell_type": "code",
   "execution_count": 10,
   "metadata": {},
   "outputs": [],
   "source": [
    "\n",
    "def my_normalize():\n",
    "    mean = ma.mean(axis=0);\n",
    "    std = ma.std(axis=0);\n",
    "    na = np.ndarray(shape=(df1.shape[0], 1));\n",
    "\n",
    "    na.fill(mean[0]);\n",
    "    na1 = np.ndarray(shape=(df1.shape[0], 1));\n",
    "    na1.fill(mean[1]);\n",
    "    finalMeanMatrix=np.concatenate((na, na1), axis=1);\n",
    "\n",
    "    X=np.subtract(ma, finalMeanMatrix);\n",
    "    x1 = np.split(X, 2, axis=1)[0]/std[0];\n",
    "    x2 = np.split(X, 2, axis=1)[1]/std[1];\n",
    "    X = np.concatenate((x1, x2), axis=1);\n",
    "    return X;"
   ]
  },
  {
   "cell_type": "code",
   "execution_count": 11,
   "metadata": {},
   "outputs": [],
   "source": [
    "# create X matrix and y vector\n",
    "ma = df1.as_matrix(columns=['size', '#room']);\n",
    "temp = my_normalize();\n",
    "temp1 = np.ndarray(shape=(df1.shape[0], 1));\n",
    "temp1.fill(1);\n",
    "X = np.concatenate((temp1, temp), axis=1);\n",
    "X_T = X.transpose();\n",
    "y = df1.as_matrix(columns=['price']);\n",
    "y_T = y.transpose();"
   ]
  },
  {
   "cell_type": "code",
   "execution_count": 12,
   "metadata": {},
   "outputs": [],
   "source": [
    "def cost_func(a):\n",
    "    a_T = a.transpose();\n",
    "    t1 = np.dot(np.dot(np.dot(a_T, X_T), X), a);\n",
    "    t2 = np.dot(np.dot(2*y_T, X), a);\n",
    "    t3 = np.dot(y_T, y);\n",
    "    t4 = np.add(np.subtract(t1, t2), t3);\n",
    "    result = t4/m;\n",
    "    return result;\n",
    "#     return mean_squared_error(np.dot(X, a), y);\n",
    "\n",
    "def updateMatrix(alpha, a):\n",
    "    t1 = np.dot(np.dot(X_T, X), a);\n",
    "    t2 = np.dot(X_T, y);\n",
    "    temp = 2*alpha/m * np.subtract(t1, t2);\n",
    "    a = np.subtract(a, temp);\n",
    "    return a;"
   ]
  },
  {
   "cell_type": "code",
   "execution_count": 13,
   "metadata": {},
   "outputs": [
    {
     "name": "stdout",
     "output_type": "stream",
     "text": [
      "[[ 340412.76595745]\n",
      " [ 109447.74027208]\n",
      " [  -6578.25154337]]\n",
      "RMSE:  63926.21492616107\n",
      "[[ 340412.76595743]\n",
      " [ 109447.66957881]\n",
      " [  -6578.18085011]]\n",
      "RMSE:  63926.21492622006\n",
      "[[ 340412.76595745]\n",
      " [ 109447.72503416]\n",
      " [  -6578.23630546]]\n",
      "RMSE:  63926.214926167566\n"
     ]
    }
   ],
   "source": [
    "m = df1.shape[0];\n",
    "alpha = [0.1, 0.01, 0.05];\n",
    "\n",
    "for i in range(len(alpha)):\n",
    "    a = np.ones(shape=(X.shape[1], 1));\n",
    "    prevCost = cost_func(a);\n",
    "    while True:\n",
    "        a = updateMatrix(alpha[i], a);\n",
    "        cost = cost_func(a);\n",
    "        if cost <= 0.001 or abs(prevCost - cost) <= 0.0001: break;\n",
    "        prevCost = cost;\n",
    "\n",
    "    print(a);\n",
    "    print('RMSE: ', math.sqrt(cost_func(a)));"
   ]
  },
  {
   "cell_type": "markdown",
   "metadata": {},
   "source": [
    "### 2.2 Normal equation"
   ]
  },
  {
   "cell_type": "code",
   "execution_count": 14,
   "metadata": {},
   "outputs": [
    {
     "name": "stdout",
     "output_type": "stream",
     "text": [
      "[[ 340412.76595745]\n",
      " [ 109447.76551898]\n",
      " [  -6578.27679028]]\n",
      "RMSE:  63926.214926156026\n"
     ]
    }
   ],
   "source": [
    "w = np.dot(np.dot(np.linalg.inv(np.dot(X_T, X)), X_T), y);\n",
    "print(w);\n",
    "print('RMSE: ', math.sqrt(cost_func(w)));"
   ]
  },
  {
   "cell_type": "code",
   "execution_count": 15,
   "metadata": {},
   "outputs": [],
   "source": [
    "# 3(60pts). Linear regression with multiple variables\n",
    "# Using Jupyter notebook, load the data (ex1data3.csv).\n",
    "# This is California housing dataset. The original database is available from http://lib.stat.cmu.edu\n",
    "# The data contains 20,640 observations on 9 variables. This dataset contains the average house value as target variable and the following input variables (features): average income, housing average age, average rooms, average bedrooms, population, average occupation, latitude, and longitude\n",
    "# (R. Kelley and Ronald Barry, Sparse Spatial Autoregressions,\\nStatistics and Probability Letters, 33 (1997) 291-297) .\n",
    "# 3-1. Linear regression with multiple variables using matrix\n",
    "# Fit the data (ex1data3.csv) using matrix calculation. You need to calculate cost function and update weight. Please print the Root Mean Squared Error (RMSE) after optimization.\n",
    "# 3-2. Linear regression with multiple variables using Normal equation\n",
    "# Fit the data (ex1data3.csv) using Normal equation. You need to calculate cost function and update weight. Please print the best Root Mean Squared Error (RMSE) after optimization.\n",
    "# 3-3. Linear regression with multiple variables using scikit-learn linear regression model\n",
    "# Fit the data (ex1data3.csv) using linear regression from scikit-learn library. You need to calculate cost function and update weight.\n",
    "# Please print the best Root Mean Squared Error (RMSE) after optimization.\n",
    "# 3-4. Linear regression with multiple variables using TensorFlow\n",
    "# Fit the data (ex1data3.csv)using linear regression using TensorFlow. Please do not use Normal equation TensorFlow. You need to calculate cost function and update weight.\n",
    "# Please print the best Root Mean Squared Error (RMSE) after optimization."
   ]
  },
  {
   "cell_type": "code",
   "execution_count": 16,
   "metadata": {},
   "outputs": [
    {
     "data": {
      "text/html": [
       "<div>\n",
       "<style scoped>\n",
       "    .dataframe tbody tr th:only-of-type {\n",
       "        vertical-align: middle;\n",
       "    }\n",
       "\n",
       "    .dataframe tbody tr th {\n",
       "        vertical-align: top;\n",
       "    }\n",
       "\n",
       "    .dataframe thead th {\n",
       "        text-align: right;\n",
       "    }\n",
       "</style>\n",
       "<table border=\"1\" class=\"dataframe\">\n",
       "  <thead>\n",
       "    <tr style=\"text-align: right;\">\n",
       "      <th></th>\n",
       "      <th>MedInc</th>\n",
       "      <th>HouseAge</th>\n",
       "      <th>AveRooms</th>\n",
       "      <th>AveBedrms</th>\n",
       "      <th>Population</th>\n",
       "      <th>AveOccup</th>\n",
       "      <th>Latitude</th>\n",
       "      <th>Longitude</th>\n",
       "      <th>price</th>\n",
       "    </tr>\n",
       "  </thead>\n",
       "  <tbody>\n",
       "    <tr>\n",
       "      <th>0</th>\n",
       "      <td>8.3252</td>\n",
       "      <td>41.0</td>\n",
       "      <td>6.984127</td>\n",
       "      <td>1.023810</td>\n",
       "      <td>322.0</td>\n",
       "      <td>2.555556</td>\n",
       "      <td>37.88</td>\n",
       "      <td>-122.23</td>\n",
       "      <td>4.526</td>\n",
       "    </tr>\n",
       "    <tr>\n",
       "      <th>1</th>\n",
       "      <td>8.3014</td>\n",
       "      <td>21.0</td>\n",
       "      <td>6.238137</td>\n",
       "      <td>0.971880</td>\n",
       "      <td>2401.0</td>\n",
       "      <td>2.109842</td>\n",
       "      <td>37.86</td>\n",
       "      <td>-122.22</td>\n",
       "      <td>3.585</td>\n",
       "    </tr>\n",
       "    <tr>\n",
       "      <th>2</th>\n",
       "      <td>7.2574</td>\n",
       "      <td>52.0</td>\n",
       "      <td>8.288136</td>\n",
       "      <td>1.073446</td>\n",
       "      <td>496.0</td>\n",
       "      <td>2.802260</td>\n",
       "      <td>37.85</td>\n",
       "      <td>-122.24</td>\n",
       "      <td>3.521</td>\n",
       "    </tr>\n",
       "    <tr>\n",
       "      <th>3</th>\n",
       "      <td>5.6431</td>\n",
       "      <td>52.0</td>\n",
       "      <td>5.817352</td>\n",
       "      <td>1.073059</td>\n",
       "      <td>558.0</td>\n",
       "      <td>2.547945</td>\n",
       "      <td>37.85</td>\n",
       "      <td>-122.25</td>\n",
       "      <td>3.413</td>\n",
       "    </tr>\n",
       "    <tr>\n",
       "      <th>4</th>\n",
       "      <td>3.8462</td>\n",
       "      <td>52.0</td>\n",
       "      <td>6.281853</td>\n",
       "      <td>1.081081</td>\n",
       "      <td>565.0</td>\n",
       "      <td>2.181467</td>\n",
       "      <td>37.85</td>\n",
       "      <td>-122.25</td>\n",
       "      <td>3.422</td>\n",
       "    </tr>\n",
       "  </tbody>\n",
       "</table>\n",
       "</div>"
      ],
      "text/plain": [
       "   MedInc  HouseAge  AveRooms  AveBedrms  Population  AveOccup  Latitude  \\\n",
       "0  8.3252      41.0  6.984127   1.023810       322.0  2.555556     37.88   \n",
       "1  8.3014      21.0  6.238137   0.971880      2401.0  2.109842     37.86   \n",
       "2  7.2574      52.0  8.288136   1.073446       496.0  2.802260     37.85   \n",
       "3  5.6431      52.0  5.817352   1.073059       558.0  2.547945     37.85   \n",
       "4  3.8462      52.0  6.281853   1.081081       565.0  2.181467     37.85   \n",
       "\n",
       "   Longitude  price  \n",
       "0    -122.23  4.526  \n",
       "1    -122.22  3.585  \n",
       "2    -122.24  3.521  \n",
       "3    -122.25  3.413  \n",
       "4    -122.25  3.422  "
      ]
     },
     "execution_count": 16,
     "metadata": {},
     "output_type": "execute_result"
    }
   ],
   "source": [
    "df2 = pd.read_csv('ex1data3.csv');\n",
    "df2 = df2.drop(columns=['Unnamed: 0']);\n",
    "df2.head()"
   ]
  },
  {
   "cell_type": "markdown",
   "metadata": {},
   "source": [
    "### 3.1 Matrix method"
   ]
  },
  {
   "cell_type": "code",
   "execution_count": 17,
   "metadata": {},
   "outputs": [],
   "source": [
    "ma = df2.as_matrix();\n",
    "\n",
    "y = ma[:,8:];\n",
    "y_T = y.transpose();\n",
    "\n",
    "ma = preprocessing.scale(ma, axis=0);\n",
    "\n",
    "# create X, y\n",
    "temp = np.ones(shape=(ma.shape[0], 1));\n",
    "X = np.concatenate((temp, ma[:,0:8]), axis=1);\n",
    "X_T = X.transpose();\n",
    "\n"
   ]
  },
  {
   "cell_type": "code",
   "execution_count": 18,
   "metadata": {},
   "outputs": [
    {
     "name": "stdout",
     "output_type": "stream",
     "text": [
      "[[ 2.06855817]\n",
      " [ 0.88931066]\n",
      " [ 0.13929766]\n",
      " [-0.36080835]\n",
      " [ 0.37679141]\n",
      " [ 0.00219653]\n",
      " [-0.04233705]\n",
      " [-0.69405879]\n",
      " [-0.67081511]]\n",
      "RMSE:  0.7274312794554385\n",
      "[[ 2.06855816]\n",
      " [ 0.93995808]\n",
      " [ 0.18856558]\n",
      " [-0.38211384]\n",
      " [ 0.36169779]\n",
      " [ 0.01946372]\n",
      " [-0.04758506]\n",
      " [-0.28737054]\n",
      " [-0.2664233 ]]\n",
      "RMSE:  0.7527198608444047\n",
      "[[ 2.06855817]\n",
      " [ 0.90492092]\n",
      " [ 0.14908045]\n",
      " [-0.3774783 ]\n",
      " [ 0.38493668]\n",
      " [ 0.00555274]\n",
      " [-0.04349744]\n",
      " [-0.60808662]\n",
      " [-0.58603945]]\n",
      "RMSE:  0.7306311201537952\n"
     ]
    }
   ],
   "source": [
    "m = df2.shape[0];\n",
    "alpha = [0.1, 0.01, 0.05];\n",
    "\n",
    "for i in range(len(alpha)):\n",
    "    a = np.ones(shape=(X.shape[1], 1));\n",
    "    prevCost = cost_func(a);\n",
    "    while True:\n",
    "        a = updateMatrix(alpha[i], a);\n",
    "        cost = cost_func(a);\n",
    "        if cost <= 0.001 or abs(prevCost - cost) <= 0.0001: break;\n",
    "        prevCost = cost;\n",
    "    print(a);\n",
    "    print('RMSE: ', math.sqrt(cost_func(a)));"
   ]
  },
  {
   "cell_type": "markdown",
   "metadata": {},
   "source": [
    "### 3.2 Normal equation"
   ]
  },
  {
   "cell_type": "code",
   "execution_count": 19,
   "metadata": {},
   "outputs": [
    {
     "name": "stdout",
     "output_type": "stream",
     "text": [
      "[[ 2.06855817]\n",
      " [ 0.8296193 ]\n",
      " [ 0.11875165]\n",
      " [-0.26552688]\n",
      " [ 0.30569623]\n",
      " [-0.004503  ]\n",
      " [-0.03932627]\n",
      " [-0.89988565]\n",
      " [-0.870541  ]]\n",
      "RMSE:  0.7241001216576475\n"
     ]
    }
   ],
   "source": [
    "w = np.dot(np.dot(np.linalg.inv(np.dot(X_T, X)), X_T), y);\n",
    "print(w);\n",
    "print('RMSE: ', math.sqrt(cost_func(w)));"
   ]
  },
  {
   "cell_type": "markdown",
   "metadata": {},
   "source": [
    "### 3.3 Sklearn linear regression"
   ]
  },
  {
   "cell_type": "code",
   "execution_count": 20,
   "metadata": {},
   "outputs": [
    {
     "name": "stdout",
     "output_type": "stream",
     "text": [
      "[[ 2.06855817]\n",
      " [ 0.8296193 ]\n",
      " [ 0.11875165]\n",
      " [-0.26552688]\n",
      " [ 0.30569623]\n",
      " [-0.004503  ]\n",
      " [-0.03932627]\n",
      " [-0.89988565]\n",
      " [-0.870541  ]]\n",
      "RMSE:  0.7241001216576489\n"
     ]
    }
   ],
   "source": [
    "Lin_reg = LinearRegression();\n",
    "Lin_reg.fit(X, y);\n",
    "Lin_reg.coef_[0][0] = Lin_reg.intercept_[0];\n",
    "print(Lin_reg.coef_.transpose());\n",
    "print('RMSE: ', math.sqrt(cost_func(Lin_reg.coef_.transpose())));"
   ]
  },
  {
   "cell_type": "markdown",
   "metadata": {},
   "source": [
    "### 3.4 Tensorflow linear regression"
   ]
  },
  {
   "cell_type": "code",
   "execution_count": 21,
   "metadata": {},
   "outputs": [
    {
     "name": "stdout",
     "output_type": "stream",
     "text": [
      "[ 2.06855774]\n",
      "[[ 0.82962048]\n",
      " [ 0.11875186]\n",
      " [-0.26552892]\n",
      " [ 0.30569792]\n",
      " [-0.00450296]\n",
      " [-0.03932633]\n",
      " [-0.89988297]\n",
      " [-0.87053841]]\n",
      "RMSE:  0.7240996920303261\n",
      "[ 2.06855249]\n",
      "[[ 0.8308593 ]\n",
      " [ 0.11902019]\n",
      " [-0.26780158]\n",
      " [ 0.30754754]\n",
      " [-0.0044214 ]\n",
      " [-0.03937544]\n",
      " [-0.89676428]\n",
      " [-0.86756068]]\n",
      "RMSE:  0.7241003505542097\n",
      "[ 2.06855726]\n",
      "[[ 0.82962197]\n",
      " [ 0.11875214]\n",
      " [-0.26553151]\n",
      " [ 0.30570003]\n",
      " [-0.00450286]\n",
      " [-0.03932638]\n",
      " [-0.89987975]\n",
      " [-0.87053537]]\n",
      "RMSE:  0.7240997331880864\n"
     ]
    }
   ],
   "source": [
    "for i in range(len(alpha)):\n",
    "    W = tf.Variable(tf.zeros([8,1]));\n",
    "    b = tf.Variable(tf.zeros([1]));\n",
    "\n",
    "    X1= X.astype(np.float32);\n",
    "    pred = tf.matmul(X1[:,1:], W) + b;\n",
    "\n",
    "    cost = tf.reduce_mean(tf.square(pred - y));\n",
    "    optimizer = tf.train.GradientDescentOptimizer(alpha[i]).minimize(cost);\n",
    "    init = tf.global_variables_initializer();\n",
    "\n",
    "    with tf.Session() as sess:\n",
    "        sess.run(init);\n",
    "        for _ in range(5000):\n",
    "            sess.run(optimizer);\n",
    "\n",
    "        print(sess.run(b));        \n",
    "        print(sess.run(W));\n",
    "        print('RMSE: ', math.sqrt(sess.run(cost)));"
   ]
  },
  {
   "cell_type": "code",
   "execution_count": null,
   "metadata": {},
   "outputs": [],
   "source": []
  }
 ],
 "metadata": {
  "kernelspec": {
   "display_name": "Python 3",
   "language": "python",
   "name": "python3"
  },
  "language_info": {
   "codemirror_mode": {
    "name": "ipython",
    "version": 3
   },
   "file_extension": ".py",
   "mimetype": "text/x-python",
   "name": "python",
   "nbconvert_exporter": "python",
   "pygments_lexer": "ipython3",
   "version": "3.7.0"
  }
 },
 "nbformat": 4,
 "nbformat_minor": 2
}
