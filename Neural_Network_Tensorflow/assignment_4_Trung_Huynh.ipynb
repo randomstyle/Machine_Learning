{
 "cells": [
  {
   "cell_type": "code",
   "execution_count": 1,
   "metadata": {},
   "outputs": [],
   "source": [
    "import numpy as np\n",
    "import pandas as pd\n",
    "import tensorflow as tf\n",
    "import matplotlib.pyplot as plt\n",
    "import math\n",
    "import time"
   ]
  },
  {
   "cell_type": "code",
   "execution_count": 2,
   "metadata": {},
   "outputs": [],
   "source": [
    "def ryan_initweight(topo):\n",
    "    tf.set_random_seed(0)\n",
    "    params = {}\n",
    "    for i in range(1, len(topo)):\n",
    "        W = tf.get_variable(\"W\" + str(i), shape=[topo[i], topo[i-1]], dtype=tf.float64, initializer=tf.contrib.layers.xavier_initializer())\n",
    "        params['W' + str(i)] = W\n",
    "        b = tf.get_variable(\"b\" + str(i), shape=[topo[i], 1], dtype=tf.float64, initializer=tf.zeros_initializer())\n",
    "        params['b' + str(i)] = b\n",
    "    return params\n",
    "\n",
    "def ryan_onehot(labels):\n",
    "    labels = labels.as_matrix()\n",
    "    temp = []\n",
    "    for val in labels:\n",
    "        if val not in temp:\n",
    "            temp.append(val)\n",
    "    temp.sort()\n",
    "    \n",
    "    result = np.zeros(shape=(len(labels),len(temp)))\n",
    "    for key, val in enumerate(labels):\n",
    "        result[key][temp.index(val)] = 1\n",
    "    return result\n",
    "\n",
    "def ryan_cal_Z(W,b,A):\n",
    "    Z = tf.matmul(W, A) + b\n",
    "    return Z\n",
    "\n",
    "def ryan_forward(X, params, keep_prob, predict=0):\n",
    "    A = X\n",
    "    for i in range(int(len(params)//2)):\n",
    "        Z = ryan_cal_Z(params['W' + str(i+1)], params['b' + str(i+1)], A)\n",
    "        if i == int(len(params)//2) - 1:\n",
    "            A = tf.sigmoid(Z)\n",
    "            A = tf.nn.softmax(A)\n",
    "\n",
    "        else:\n",
    "            if predict == 0:\n",
    "                A = tf.nn.relu(Z)\n",
    "                A = tf.nn.dropout(A, keep_prob)\n",
    "            else:\n",
    "                A = tf.nn.relu(Z)\n",
    "    \n",
    "    return A\n",
    "\n",
    "# def ryan_cost_func(lastA, Y):\n",
    "#     t1 = np.multiply(Y, tf.log(lastA))\n",
    "#     t2 = np.multiply(1.0 - Y, tf.log(1.0 - lastA + 0.00000001)) \n",
    "#     cost = -1.0/int(Y.shape[1]) * np.sum(t1 + t2)\n",
    "#     return cost\n",
    "    \n",
    "## Softmax prediction\n",
    "def ryan_softmax_predict(lastA, Y, params):\n",
    "    lastA = np.asarray(lastA)\n",
    "    labels = Y.as_matrix()\n",
    "    count = 0.0\n",
    "    softmax_prob = np.zeros(lastA.T.shape)\n",
    "    pred = []\n",
    "    \n",
    "    # softmax with probability\n",
    "    for i in range(lastA.T.shape[0]):\n",
    "        temp = np.exp(lastA.T[i])\n",
    "        softmax_prob[i] = temp/np.sum(temp)\n",
    "    \n",
    "    # make prediction\n",
    "    for i in range(labels.shape[0]):\n",
    "        pred.append(np.argmax(softmax_prob[i]))\n",
    "        if(np.argmax(softmax_prob[i]) != labels[i]):\n",
    "            count += 1\n",
    "    \n",
    "    return softmax_prob, pred, 1.0 - count/labels.shape[0], count"
   ]
  },
  {
   "cell_type": "code",
   "execution_count": 3,
   "metadata": {},
   "outputs": [],
   "source": [
    "start = time.time()\n",
    "## preprocess data\n",
    "df_train = pd.read_csv('ex4_train.csv.xls')\n",
    "df_test = pd.read_csv('ex4_test.csv.xls')\n",
    "df_train = df_train.drop(['Unnamed: 0'], axis=1)\n",
    "df_test = df_test.drop(['Unnamed: 0'], axis=1)\n",
    "\n",
    "X_train = df_train.iloc[:,0:400].T\n",
    "Y_train = ryan_onehot(df_train['y']).T\n",
    "Y_train1 = df_train['y']\n",
    "\n",
    "X_test = df_test.iloc[:,0:400].T\n",
    "Y_test = df_test['y']"
   ]
  },
  {
   "cell_type": "code",
   "execution_count": 4,
   "metadata": {
    "scrolled": true
   },
   "outputs": [
    {
     "name": "stdout",
     "output_type": "stream",
     "text": [
      "======= 0.3 ======\n",
      "Train  0.9657142857142857\n",
      "Test  0.9226666666666666\n",
      "======= 0.6 ======\n",
      "Train  0.9854285714285714\n",
      "Test  0.9339999999999999\n",
      "======= 0.7 ======\n",
      "Train  0.9877142857142858\n",
      "Test  0.9413333333333334\n",
      "======= 0.8 ======\n",
      "Train  0.9891428571428571\n",
      "Test  0.9406666666666667\n",
      "======= 0.9 ======\n",
      "Train  0.9908571428571429\n",
      "Test  0.944\n"
     ]
    },
    {
     "data": {
      "image/png": "[encoded data removed]",
      "text/plain": [
       "<matplotlib.figure.Figure at 0x11cfce7b8>"
      ]
     },
     "metadata": {},
     "output_type": "display_data"
    },
    {
     "name": "stdout",
     "output_type": "stream",
     "text": [
      "537.3434920310974\n"
     ]
    }
   ],
   "source": [
    "## run same model for each keep_prob\n",
    "# keep_prob = [0.8,0.85,0.91,0.92,0.93,0.94,0.95]\n",
    "keep_prob = [0.3,0.6,0.7,0.8,0.9]\n",
    "# keep_prob = [0.5]\n",
    "accs_train = []\n",
    "accs_test = []\n",
    "for i in range(len(keep_prob)):\n",
    "    X_train_tf = tf.placeholder(tf.float64, shape=(X_train.shape))\n",
    "    Y_train_tf = tf.placeholder(tf.float64, shape=(Y_train.shape))\n",
    "\n",
    "    X_test_tf = tf.placeholder(tf.float64, shape=(X_test.shape))\n",
    "    Y_test_tf = tf.placeholder(tf.float64, shape=(Y_test.shape))\n",
    "\n",
    "\n",
    "    params = ryan_initweight([400, 300, 25, 10]) #[400, 300, 100, 10]\n",
    "    lastA = ryan_forward(X_train_tf, params, keep_prob[i])\n",
    "    #cost = ryan_cost_func(lastA, Y_train_tf)\n",
    "#     cost = tf.reduce_mean(tf.nn.softmax_cross_entropy_with_logits(labels=Y_train_tf,logits=lastA))\n",
    "    cost = -tf.reduce_mean(Y_train_tf * tf.log(lastA), 1)\n",
    "    optimizer = tf.train.AdamOptimizer(learning_rate=0.001).minimize(cost)\n",
    "    pred = ryan_forward(X_train_tf, params, 1)\n",
    "    pred1 = ryan_forward(X_test_tf, params, 1)\n",
    "    init = tf.global_variables_initializer()\n",
    "    with tf.Session() as sess:\n",
    "        sess.run(init)\n",
    "        for _ in range(500):\n",
    "            _, para = sess.run([optimizer, params], feed_dict={X_train_tf:X_train, Y_train_tf:Y_train})\n",
    "\n",
    "#         writer = tf.summary.FileWriter(\"/Users/huynh/Documents/workspace/258/log/4log/\", sess.graph)\n",
    "#         writer.close()\n",
    "        predict_train = sess.run(pred, feed_dict={X_train_tf:X_train})\n",
    "        predict_test = sess.run(pred1, feed_dict={X_test_tf:X_test})\n",
    "       \n",
    "    softmax_matrix, num_pred, accuracy, count = ryan_softmax_predict(predict_train, Y_train1, para)\n",
    "    softmax_matrix1, num_pred1, accuracy1, count1 = ryan_softmax_predict(predict_test, Y_test, para)\n",
    "    \n",
    "    accs_train.append(accuracy)\n",
    "    accs_test.append(accuracy1)\n",
    "    print(\"=======\", keep_prob[i], \"======\")\n",
    "    print(\"Train \", accuracy)\n",
    "    print(\"Test \", accuracy1)\n",
    "    tf.reset_default_graph()\n",
    "\n",
    "## Draw graph\n",
    "plt.plot(keep_prob, accs_train, \"b-\",keep_prob, accs_test, \"r-\", )\n",
    "plt.xlabel('probability')\n",
    "plt.ylabel('accuracy')\n",
    "plt.show()\n",
    "end = time.time()\n",
    "print(\"time used: \", end-start ,\" seconds\")"
   ]
  },
  {
   "cell_type": "code",
   "execution_count": 5,
   "metadata": {},
   "outputs": [
    {
     "name": "stdout",
     "output_type": "stream",
     "text": [
      "time used:  537.3434920310974  seconds\n"
     ]
    }
   ],
   "source": [
    "print(\"time used: \", end-start ,\" seconds\")"
   ]
  },
  {
   "cell_type": "code",
   "execution_count": null,
   "metadata": {},
   "outputs": [],
   "source": []
  },
  {
   "cell_type": "code",
   "execution_count": null,
   "metadata": {},
   "outputs": [],
   "source": []
  },
  {
   "cell_type": "code",
   "execution_count": null,
   "metadata": {},
   "outputs": [],
   "source": []
  }
 ],
 "metadata": {
  "kernelspec": {
   "display_name": "Python 3",
   "language": "python",
   "name": "python3"
  },
  "language_info": {
   "codemirror_mode": {
    "name": "ipython",
    "version": 3
   },
   "file_extension": ".py",
   "mimetype": "text/x-python",
   "name": "python",
   "nbconvert_exporter": "python",
   "pygments_lexer": "ipython3",
   "version": "3.6.3"
  }
 },
 "nbformat": 4,
 "nbformat_minor": 2
}
